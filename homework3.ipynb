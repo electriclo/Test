{
 "nbformat": 4,
 "nbformat_minor": 2,
 "metadata": {
  "language_info": {
   "name": "python",
   "codemirror_mode": {
    "name": "ipython",
    "version": 3
   },
   "version": "3.8.2-final"
  },
  "orig_nbformat": 2,
  "file_extension": ".py",
  "mimetype": "text/x-python",
  "name": "python",
  "npconvert_exporter": "python",
  "pygments_lexer": "ipython3",
  "version": 3,
  "kernelspec": {
   "name": "python38232bit4dd2e68465f54e008853ce3eaa77a8a0",
   "display_name": "Python 3.8.2 32-bit"
  }
 },
 "cells": [
  {
   "cell_type": "code",
   "execution_count": 15,
   "metadata": {},
   "outputs": [
    {
     "output_type": "stream",
     "name": "stdout",
     "text": "['mom,dad,wally']\n['120, 140, 30']\n[\"5'4, 6'0, 1'0\"]\n[['mom,dad,wally', \"5'4, 6'0, 1'0\", '120, 140, 30']]\n"
    }
   ],
   "source": [
    "names=[\"mom,dad,wally\"]\n",
    "weights=[\"120, 140, 30\"]\n",
    "heights= [\"5'4, 6'0, 1'0\"]\n",
    "print (names)\n",
    "print (weights)\n",
    "print (heights)\n",
    "nwh = [names + heights +weights]\n",
    "print (nwh)"
   ]
  },
  {
   "cell_type": "code",
   "execution_count": 15,
   "metadata": {},
   "outputs": [
    {
     "output_type": "stream",
     "name": "stdout",
     "text": "('jiya', 'laura', 'hastings')\n"
    },
    {
     "output_type": "error",
     "ename": "NameError",
     "evalue": "name 'abdul' is not defined",
     "traceback": [
      "\u001b[1;31m---------------------------------------------------------------------------\u001b[0m",
      "\u001b[1;31mNameError\u001b[0m                                 Traceback (most recent call last)",
      "\u001b[1;32m<ipython-input-15-22fb9ff507d2>\u001b[0m in \u001b[0;36m<module>\u001b[1;34m\u001b[0m\n\u001b[0;32m      1\u001b[0m \u001b[0mfriends\u001b[0m \u001b[1;33m=\u001b[0m \u001b[1;34m\"jiya\"\u001b[0m\u001b[1;33m,\u001b[0m\u001b[1;34m\"laura\"\u001b[0m\u001b[1;33m,\u001b[0m\u001b[1;34m\"hastings\"\u001b[0m\u001b[1;33m\u001b[0m\u001b[1;33m\u001b[0m\u001b[0m\n\u001b[0;32m      2\u001b[0m \u001b[0mprint\u001b[0m \u001b[1;33m(\u001b[0m\u001b[0mfriends\u001b[0m\u001b[1;33m)\u001b[0m\u001b[1;33m\u001b[0m\u001b[1;33m\u001b[0m\u001b[0m\n\u001b[1;32m----> 3\u001b[1;33m \u001b[0mprint\u001b[0m \u001b[1;33m(\u001b[0m\u001b[0mfriends\u001b[0m\u001b[1;33m[\u001b[0m\u001b[1;36m0\u001b[0m\u001b[1;33m,\u001b[0m\u001b[0mabdul\u001b[0m\u001b[1;33m]\u001b[0m\u001b[1;33m)\u001b[0m\u001b[1;33m\u001b[0m\u001b[1;33m\u001b[0m\u001b[0m\n\u001b[0m",
      "\u001b[1;31mNameError\u001b[0m: name 'abdul' is not defined"
     ]
    }
   ],
   "source": [
    "friends = \"jiya\",\"laura\",\"hastings\"\n",
    "print (friends)\n",
    "print (friends[0])"
   ]
  },
  {
   "cell_type": "code",
   "execution_count": 26,
   "metadata": {},
   "outputs": [
    {
     "output_type": "stream",
     "name": "stdout",
     "text": "<built-in method capitalize of str object at 0x06834BC0>\n<built-in method capitalize of str object at 0x06794460>\n"
    }
   ],
   "source": [
    "movie1 = (\"k-12\")\n",
    "movie2 = (\"ach\")\n",
    "movie1.capitalize\n",
    "print (movie1.capitalize)\n",
    "print (movie2.capitalize)"
   ]
  },
  {
   "cell_type": "code",
   "execution_count": null,
   "metadata": {},
   "outputs": [],
   "source": [
    "# theres a bracket missing in the end, and there shouldnt be a bracket behind 5."
   ]
  },
  {
   "cell_type": "code",
   "execution_count": null,
   "metadata": {},
   "outputs": [],
   "source": []
  }
 ]
}